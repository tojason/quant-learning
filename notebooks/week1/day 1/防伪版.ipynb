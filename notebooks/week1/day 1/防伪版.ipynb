{
 "cells": [
  {
   "cell_type": "markdown",
   "id": "intro",
   "metadata": {},
   "source": "# 量化交易入门\n\n本笔记本提供量化交易的基本概念和Python实现方法。通过跟随这个教程，您将了解：\n\n- 量化交易的基本概念\n- 市场数据的获取和处理\n- 技术指标的计算和可视化\n- 简单交易策略的实现\n- 基本的回测方法"
  },
  {
   "cell_type": "markdown",
   "id": "setup",
   "metadata": {},
   "source": "## 环境设置\n\n首先导入必要的库和工具："
  },
  {
   "cell_type": "code",
   "execution_count": null,
   "id": "imports",
   "metadata": {},
   "outputs": [],
   "source": "# 基础库\nimport numpy as np\nimport pandas as pd\nimport matplotlib.pyplot as plt\nimport matplotlib.font_manager as fm\nimport seaborn as sns\nimport yfinance as yf\nfrom datetime import datetime, timedelta\n\n# 设置绘图样式\nplt.style.use('seaborn-v0_8')\nplt.rcParams['figure.figsize'] = (14, 7)\nplt.rcParams['font.size'] = 12\n\n# 显示所有列\npd.set_option('display.max_columns', None)"
  },
  {
   "cell_type": "markdown",
   "id": "data-section",
   "metadata": {},
   "source": "## 获取市场数据\n\n使用yfinance库从Yahoo Finance获取股票数据："
  },
  {
   "cell_type": "code",
   "execution_count": null,
   "id": "get-data",
   "metadata": {},
   "outputs": [],
   "source": "# 设置日期范围\nend_date = datetime.now()\nstart_date = end_date - timedelta(days=365)\n\n# 获取特斯拉股票数据\nticker = 'TSLA'\ndata = yf.download(ticker, start=start_date, end=end_date)\n\nprint('原始数据：')\nprint(data.head())"
  },
  {
   "cell_type": "markdown",
   "id": "process-section",
   "metadata": {},
   "source": "## 数据处理\n\n对获取的数据进行基本处理："
  },
  {
   "cell_type": "code",
   "execution_count": null,
   "id": "process-code",
   "metadata": {},
   "outputs": [],
   "source": "# 计算每日收益率\ndata['Daily_Return'] = data['Close'].pct_change()\n\n# 计算移动平均线\ndata['MA20'] = data['Close'].rolling(window=20).mean()\ndata['MA50'] = data['Close'].rolling(window=50).mean()\n\n# 计算波动率\ndata['Volatility'] = data['Daily_Return'].rolling(window=20).std() * np.sqrt(252)\n\nprint('处理后的数据：')\nprint(data.head())"
  }
 ],
 "metadata": {
  "kernelspec": {
   "display_name": "Python 3",
   "language": "python",
   "name": "python3"
  },
  "language_info": {
   "codemirror_mode": {
    "name": "ipython",
    "version": 3
   },
   "file_extension": ".py",
   "mimetype": "text/x-python",
   "name": "python",
   "nbconvert_exporter": "python",
   "pygments_lexer": "ipython3",
   "version": "3.8.0"
  },
  "watermark": "JayBee黄版权所有，未经授权禁止复制",
  "watermark_version": "v3 - 每行防伪"
 },
 "nbformat": 4,
 "nbformat_minor": 5
}