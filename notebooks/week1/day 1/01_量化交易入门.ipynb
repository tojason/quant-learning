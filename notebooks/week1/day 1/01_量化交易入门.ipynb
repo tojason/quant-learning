{
 "cells": [
  {
   "cell_type": "markdown",
   "id": "2bdde36f",
   "metadata": {},
   "source": "# 量化交易入门\n\n本笔记本提供量化交易的基本概念和Python实现方法。通过跟随这个教程，您将了解：\n\n- 量化交易的基本概念\n- 市场数据的获取和处理\n- 技术指标的计算和可视化\n- 简单交易策略的实现\n- 基本的回测方法"
  },
  {
   "cell_type": "markdown",
   "id": "ec2f46b0",
   "metadata": {},
   "source": "## 环境设置\n\n首先导入必要的库和工具："
  },
  {
   "cell_type": "code",
   "execution_count": null,
   "id": "ae453613",
   "metadata": {},
   "outputs": [],
   "source": "# 基础库\nimport numpy as np\nimport pandas as pd\nimport matplotlib.pyplot as plt\nimport matplotlib.font_manager as fm\nimport seaborn as sns\nimport yfinance as yf\nfrom datetime import datetime, timedelta\n\n\n# 设置绘图样式\nplt.style.use('seaborn-v0_8')\nplt.rcParams['figure.figsize'] = (14, 7)\nplt.rcParams['font.size'] = 12\n\n# 显示所有列\npd.set_option('display.max_columns', None)"
  },
  {
   "cell_type": "markdown",
   "id": "8955a3bd",
   "metadata": {},
   "source": "## 获取市场数据\n\n使用yfinance库从Yahoo Finance获取股票数据："
  },
  {
   "cell_type": "code",
   "execution_count": null,
   "id": "7400dd19",
   "metadata": {},
   "outputs": [],
   "source": "import yfinance as yf\n\nticker_symbol = \"TSLA\"\n\n# 下载数据，虽然指定了 group_by='column'，返回的依然是 MultiIndex 列\nstock_data = yf.download(ticker_symbol, period=\"3y\", group_by='column')\nprint(\"原始数据：\")\nprint(stock_data.head())\n\n# 将 MultiIndex 列扁平化：取第一层作为新的列标签\nstock_data.columns = stock_data.columns.get_level_values(0)\nprint(\"扁平化后的数据：\")\nprint(stock_data.head())\n\n# 保存为 CSV 文件\nstock_data.to_csv(f\"{ticker_symbol}_past_year_stock_data.csv\")\nprint(f\"{ticker_symbol} past 1 year stock data downloaded and saved to CSV file.\")"
  },
  {
   "cell_type": "markdown",
   "id": "e148d375",
   "metadata": {},
   "source": "## 数据探索和可视化\n\n了解数据的基本特征并进行可视化："
  },
  {
   "cell_type": "code",
   "execution_count": null,
   "id": "6a28e7c1",
   "metadata": {},
   "outputs": [],
   "source": "# 查看数据基本信息\nprint(\"数据形状:\", stock_data.shape)\nprint(\"\\n数据类型:\")\nprint(stock_data.dtypes)\nprint(\"\\n基本统计信息:\")\nstock_data.describe()"
  },
  {
   "cell_type": "code",
   "execution_count": null,
   "id": "aac9dc90",
   "metadata": {},
   "outputs": [],
   "source": "# 设置中文字体\nplt.rcParams['font.sans-serif'] = ['PingFang HK']\nplt.rcParams['axes.unicode_minus'] = False\n# for f in fm.fontManager.ttflist:\n#     # 只打印名称中包含 'PingFang' 或 'SC' 或 'Hei' 等关键字的字体\n#     if \"PingFang\" in f.name or \"Heiti\" in f.name or \"Songti\" in f.name or \"SC\" in f.name:\n#         print(f.name)\n\nstart_date = stock_data.index[0]\nend_date = stock_data.index[-1]\n\nplt.figure(figsize=(16, 8))\n\n# 绘制收盘价\nplt.plot(stock_data.index, stock_data['Close'], label='收盘价')\n\nax1 = plt.gca()\nax2 = ax1.twinx()\nax2.bar(stock_data.index, stock_data['Volume'], alpha=0.3, color='gray', label='成交量')\nax2.set_ylabel('成交量')\n\nplt.title(f'{ticker_symbol}股票价格走势 ({start_date.date()} 至 {end_date.date()})')\nax1.set_xlabel('日期')\nax1.set_ylabel('价格 (USD)')\nax1.legend(loc='upper left')\nax2.legend(loc='upper right')\n\nplt.grid(True, alpha=0.3)\nplt.show()"
  },
  {
   "cell_type": "markdown",
   "id": "27bd8d51",
   "metadata": {},
   "source": "## 计算技术指标\n\n计算常用的技术分析指标："
  },
  {
   "cell_type": "code",
   "execution_count": null,
   "id": "0a96bc0c",
   "metadata": {},
   "outputs": [],
   "source": "# 计算移动平均线\nstock_data['SMA20'] = stock_data['Close'].rolling(window=20).mean()  # 20日简单移动平均线\nstock_data['SMA50'] = stock_data['Close'].rolling(window=50).mean()  # 50日简单移动平均线\nstock_data['SMA200'] = stock_data['Close'].rolling(window=200).mean()  # 200日简单移动平均线\n\n# 计算相对强弱指数 (RSI)\nperiod=14\ndelta = stock_data['Close'].diff()\n# 分离涨跌幅\ngain = delta.clip(lower=0)         # 涨幅为正，其余为0\nloss = -delta.clip(upper=0)        # 跌幅取绝对值，其余为0\n# 使用 Wilder 平滑：alpha=1/period，min_periods=period，adjust=False\navg_gain = gain.ewm(alpha=1/period, min_periods=period, adjust=False).mean()\navg_loss = loss.ewm(alpha=1/period, min_periods=period, adjust=False).mean()\n# 计算RS及RSI\nrs = avg_gain / avg_loss\nrsi = 100 - (100 / (1 + rs))\nstock_data['RSI14'] = rsi\n\n# 计算布林带\nrolling_std = stock_data['Close'].rolling(window=20).std()\nstock_data['BB_middle'] = stock_data['Close'].rolling(window=20).mean()\nstock_data['BB_upper'] = stock_data['BB_middle'] + (rolling_std * 2)\nstock_data['BB_lower'] = stock_data['BB_middle'] - (rolling_std * 2)\n\n\n# 显示带有技术指标的数据\nstock_data.tail()"
  },
  {
   "cell_type": "code",
   "execution_count": null,
   "id": "98b6d87b",
   "metadata": {},
   "outputs": [],
   "source": "# 绘制带有移动平均线的股票价格图\nplt.figure(figsize=(16, 8))\nplt.plot(stock_data.index, stock_data['Close'], label='收盘价', alpha=0.7)\nplt.plot(stock_data.index, stock_data['SMA20'], label='20日均线', linestyle='--')\nplt.plot(stock_data.index, stock_data['SMA50'], label='50日均线', linestyle='-.')\nplt.plot(stock_data.index, stock_data['SMA200'], label='200日均线', linestyle=':')\n\nplt.title(f'{ticker_symbol}股票价格和移动平均线')\nplt.xlabel('日期')\nplt.ylabel('价格 (USD)')\nplt.legend()\nplt.grid(True, alpha=0.3)\nplt.show()"
  },
  {
   "cell_type": "code",
   "execution_count": null,
   "id": "4412e11b",
   "metadata": {},
   "outputs": [],
   "source": "# 绘制RSI指标\nplt.figure(figsize=(16, 5))\nplt.plot(stock_data.index, stock_data['RSI14'], label='RSI(14)', color='purple')\n\n# 添加超买超卖区域\nplt.axhline(y=70, color='r', linestyle='--', alpha=0.5, label='超买线 (70)')\nplt.axhline(y=30, color='g', linestyle='--', alpha=0.5, label='超卖线 (30)')\nplt.axhline(y=50, color='gray', linestyle='-', alpha=0.3)\n\nplt.title(f'{ticker_symbol} RSI(14)指标')\nplt.xlabel('日期')\nplt.ylabel('RSI值')\nplt.legend()\nplt.grid(True, alpha=0.3)\nplt.ylim(0, 100)\nplt.show()"
  },
  {
   "cell_type": "code",
   "execution_count": null,
   "id": "0d26712e",
   "metadata": {},
   "outputs": [],
   "source": "# 绘制布林带\nplt.figure(figsize=(16, 8))\nplt.plot(stock_data.index, stock_data['Close'], label='收盘价', alpha=0.7)\nplt.plot(stock_data.index, stock_data['BB_upper'], label='上轨', color='red', linestyle='--')\nplt.plot(stock_data.index, stock_data['BB_middle'], label='中轨', color='blue', linestyle='-')\nplt.plot(stock_data.index, stock_data['BB_lower'], label='下轨', color='green', linestyle='--')\n\nplt.title(f'{ticker_symbol}股票价格和布林带')\nplt.xlabel('日期')\nplt.ylabel('价格 (USD)')\nplt.legend()\nplt.grid(True, alpha=0.3)\nplt.show()"
  },
  {
   "cell_type": "markdown",
   "id": "84c8acb8",
   "metadata": {},
   "source": "## 简单策略实现\n\n实现一个基于移动平均线交叉的简单交易策略："
  },
  {
   "cell_type": "code",
   "execution_count": null,
   "id": "9ec99e9a",
   "metadata": {},
   "outputs": [],
   "source": "import pandas as pd\nimport numpy as np\nimport matplotlib.pyplot as plt\n\n# 生成模拟数据（使用随机游走模拟股票收盘价）\nnp.random.seed(42)\ndates = pd.date_range(start='2020-01-01', periods=300, freq='B')\n# 生成对数正态随机数据并累计作为价格\nprices = np.random.lognormal(mean=0, sigma=0.02, size=len(dates)).cumprod() * 100\nstock_data = pd.DataFrame({'Close': prices}, index=dates)\n\n# 计算短期（20日）和长期（50日）移动平均线\nstock_data['SMA_Fast'] = stock_data['Close'].rolling(window=20).mean()\nstock_data['SMA_Slow'] = stock_data['Close'].rolling(window=50).mean()\n\n# 根据均线交叉生成原始信号：20日均线大于50日均线时信号为1（买入），反之为-1（卖出）\nstock_data['Signal'] = 0\nstock_data.loc[stock_data['SMA_Fast'] > stock_data['SMA_Slow'], 'Signal'] = 1\nstock_data.loc[stock_data['SMA_Fast'] < stock_data['SMA_Slow'], 'Signal'] = -1\n\n# 为避免当日已知收盘价就进行交易，将信号延迟一天，模拟\"下一日开盘\"交易\nstock_data['Trade_Signal'] = stock_data['Signal'].shift(1)\n\n# 计算市场的日收益率（基于收盘价的百分比变化）\nstock_data['Market_Return'] = stock_data['Close'].pct_change()\n\n# 计算仓位变化（买卖时仓位的变化会产生交易成本）\nstock_data['Position_Change'] = stock_data['Trade_Signal'].diff().abs()\n\n# 设置交易成本比例（例如：每次交易成本为0.1%）\ntransaction_cost = 0.001\n\n# 计算策略的日收益率：使用前一日的交易信号乘以当天市场收益，同时扣除因仓位变动产生的交易费用\nstock_data['Strategy_Return'] = stock_data['Trade_Signal'] * stock_data['Market_Return'] - transaction_cost * stock_data['Position_Change']\n\n# 计算累计收益，初始资金设为1\nstock_data['Cumulative_Market'] = (1 + stock_data['Market_Return'].fillna(0)).cumprod()\nstock_data['Cumulative_Strategy'] = (1 + stock_data['Strategy_Return'].fillna(0)).cumprod()\n\n# 绘制结果\nplt.figure(figsize=(16, 10))\n\n# 子图1：收盘价、均线及买卖信号标记\nplt.subplot(3, 1, 1)\nplt.plot(stock_data.index, stock_data['Close'], label='收盘价', alpha=0.7)\nplt.plot(stock_data.index, stock_data['SMA_Fast'], label='20日均线', linestyle='--')\nplt.plot(stock_data.index, stock_data['SMA_Slow'], label='50日均线', linestyle='-.')\n# 计算交易信号的变化，便于标记买入卖出点（当 Trade_Signal 从 -1 跃变到 1，diff 为2；反之为-2）\nstock_data['Trade_Change'] = stock_data['Trade_Signal'].diff()\nbuy_signals = stock_data[stock_data['Trade_Change'] == 2].index\nsell_signals = stock_data[stock_data['Trade_Change'] == -2].index\n\nplt.scatter(buy_signals, stock_data.loc[buy_signals, 'Close'], marker='^', color='g', s=100, label='买入信号')\nplt.scatter(sell_signals, stock_data.loc[sell_signals, 'Close'], marker='v', color='r', s=100, label='卖出信号')\nplt.title('移动平均线交叉策略')\nplt.xlabel('日期')\nplt.ylabel('价格 (USD)')\nplt.legend()\nplt.grid(True, alpha=0.3)\n\n# 子图2：累计收益对比（市场 vs 策略）\nplt.subplot(3, 1, 2)\nplt.plot(stock_data.index, stock_data['Cumulative_Market'], label='市场累计收益')\nplt.plot(stock_data.index, stock_data['Cumulative_Strategy'], label='策略累计收益')\nplt.title('累计收益对比')\nplt.xlabel('日期')\nplt.ylabel('累计收益 (初始资金=1)')\nplt.legend()\nplt.grid(True, alpha=0.3)\n\nplt.tight_layout()\nplt.show()\n\n# # 绘制持仓状态\nplt.subplot(3, 1, 3)\nplt.plot(stock_data.index, stock_data['Signal'], label='持仓状态')\nplt.axhline(y=0, color='gray', linestyle='-', alpha=0.3)\n\nplt.fill_between(stock_data.index, stock_data['Signal'], 0, where=stock_data['Signal'] > 0, color='g', alpha=0.3, label='多头')\nplt.fill_between(stock_data.index, stock_data['Signal'], 0, where=stock_data['Signal'] < 0, color='r', alpha=0.3, label='空头')\n\nplt.title('持仓状态')\nplt.xlabel('日期')\nplt.ylabel('仓位')\nplt.legend()\nplt.grid(True, alpha=0.3)\nplt.tight_layout()\nplt.show()"
  },
  {
   "cell_type": "markdown",
   "id": "d06e41fc",
   "metadata": {},
   "source": "## 策略回测\n\n计算策略的收益和评估指标："
  },
  {
   "cell_type": "code",
   "execution_count": null,
   "id": "ee78f4e5",
   "metadata": {},
   "outputs": [],
   "source": "import numpy as np\n\n# 选择有效数据（去除NaN）\nvalid_data = stock_data.dropna()\n\n# 计算年化收益率\ntotal_days = (valid_data.index[-1] - valid_data.index[0]).days\nannual_return_strategy = (valid_data['Cumulative_Strategy'].iloc[-1] ** (365 / total_days)) - 1\nannual_return_market = (valid_data['Cumulative_Market'].iloc[-1] ** (365 / total_days)) - 1\n\n# 计算波动率（标准差）\ndaily_vol_strategy = valid_data['Strategy_Return'].std()\nannual_vol_strategy = daily_vol_strategy * np.sqrt(252)  # 假设一年252个交易日\n\ndaily_vol_market = valid_data['Market_Return'].std()  # 使用计算好的市场日收益率\nannual_vol_market = daily_vol_market * np.sqrt(252)\n\n# 计算夏普比率（假设无风险收益率为0）\nsharpe_ratio_strategy = annual_return_strategy / annual_vol_strategy\nsharpe_ratio_market = annual_return_market / annual_vol_market\n\n# 计算最大回撤\ncumulative_returns_strategy = valid_data['Cumulative_Strategy']\nrunning_max_strategy = cumulative_returns_strategy.cummax()\ndrawdown_strategy = (cumulative_returns_strategy - running_max_strategy) / running_max_strategy\nmax_drawdown_strategy = drawdown_strategy.min()\n\ncumulative_returns_market = valid_data['Cumulative_Market']\nrunning_max_market = cumulative_returns_market.cummax()\ndrawdown_market = (cumulative_returns_market - running_max_market) / running_max_market\nmax_drawdown_market = drawdown_market.min()\n\n# 打印结果\nprint(f\"评估时间段: {valid_data.index[0].date()} 至 {valid_data.index[-1].date()}\")\nprint(f\"总交易天数: {len(valid_data)}\")\nprint(\"\\n--- 策略表现 ---\")\nprint(f\"年化收益率: {annual_return_strategy:.2%}\")\nprint(f\"年化波动率: {annual_vol_strategy:.2%}\")\nprint(f\"夏普比率: {sharpe_ratio_strategy:.2f}\")\nprint(f\"最大回撤: {max_drawdown_strategy:.2%}\")\nprint(\"\\n--- 基准表现 (Buy & Hold) ---\")\nprint(f\"年化收益率: {annual_return_market:.2%}\")\nprint(f\"年化波动率: {annual_vol_market:.2%}\")\nprint(f\"夏普比率: {sharpe_ratio_market:.2f}\")\nprint(f\"最大回撤: {max_drawdown_market:.2%}\")"
  },
  {
   "cell_type": "markdown",
   "id": "9542f770",
   "metadata": {},
   "source": "## 总结与下一步\n\n在本笔记本中，我们学习了：\n\n1. 如何获取和处理股票数据\n2. 如何计算和可视化技术指标\n3. 如何实现简单的移动平均线交叉策略\n4. 如何评估策略的性能\n\n下一步，您可以尝试：\n\n- 优化策略参数\n- 实现其他交易策略（如RSI、布林带策略等）\n- 添加更多的风险管理措施\n- 构建投资组合并进行资产配置\n\n请继续查看 `02_trading_strategies.ipynb` 了解更多交易策略的实现。"
  },
  {
   "cell_type": "code",
   "execution_count": null,
   "id": "09565152-6f40-40f3-ad46-9d72069f5539",
   "metadata": {},
   "outputs": [],
   "source": ""
  }
 ],
 "metadata": {
  "kernelspec": {
   "display_name": "Python 3 (ipykernel)",
   "language": "python",
   "name": "python3"
  },
  "language_info": {
   "codemirror_mode": {
    "name": "ipython",
    "version": 3
   },
   "file_extension": ".py",
   "mimetype": "text/x-python",
   "name": "python",
   "nbconvert_exporter": "python",
   "pygments_lexer": "ipython3",
   "version": "3.9.21"
  },
  "watermark": "JayBee黄版权所有，未经授权禁止复制",
  "watermark_version": "v3 - 每行防伪"
 },
 "nbformat": 4,
 "nbformat_minor": 5
}